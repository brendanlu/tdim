{
 "cells": [
  {
   "cell_type": "markdown",
   "metadata": {},
   "source": [
    "# Simple example demonstrating tred interface\n",
    "This is a hacky 20 minute notebook demonstrating deadpan basic functionalities\n",
    "in `tred`. It unfortunately, at the moment, does not cover all of the public \n",
    "functionality. "
   ]
  },
  {
   "cell_type": "code",
   "execution_count": 1,
   "metadata": {},
   "outputs": [],
   "source": [
    "import numpy as np\n",
    "\n",
    "import tred\n",
    "from tred import display_tensor_facewise as disp"
   ]
  },
  {
   "cell_type": "markdown",
   "metadata": {},
   "source": [
    "First we will create some dummy data"
   ]
  },
  {
   "cell_type": "code",
   "execution_count": 2,
   "metadata": {},
   "outputs": [],
   "source": [
    "# let's use a numpy rng\n",
    "RNG = np.random.default_rng(seed=1234)\n",
    "\n",
    "# then we will generate some dummy data\n",
    "n, p, t = 3, 4, 2\n",
    "X = RNG.random(size=(n, p, t))"
   ]
  },
  {
   "cell_type": "markdown",
   "metadata": {},
   "source": [
    "Let's quickly view our data using the `display_tensor_facewise` function, which we imported as `disp`. Note: this looks a bit nicer than calling `print(X)`"
   ]
  },
  {
   "cell_type": "code",
   "execution_count": 3,
   "metadata": {},
   "outputs": [
    {
     "name": "stdout",
     "output_type": "stream",
     "text": [
      "Tensor with dimensions (3, 4, 2)\n",
      "[[[0.97669977 0.92324623 0.31909706 0.24176629]\n",
      "  [0.96407925 0.44100612 0.8636213  0.67488131]\n",
      "  [0.7357577  0.17206618 0.06013866 0.67123802]]\n",
      "\n",
      " [[0.38019574 0.26169242 0.11809123 0.31853393]\n",
      "  [0.2636498  0.60987081 0.86375767 0.65987435]\n",
      "  [0.22275366 0.87041497 0.68368891 0.61101798]]]\n"
     ]
    }
   ],
   "source": [
    "disp(X)"
   ]
  },
  {
   "cell_type": "markdown",
   "metadata": {},
   "source": [
    "Let's get the tsvdm decomposition first, using the `tsvdm` function"
   ]
  },
  {
   "cell_type": "code",
   "execution_count": 4,
   "metadata": {},
   "outputs": [],
   "source": [
    "# so, first we can use tred's tsvdm decomposition\n",
    "U, S, V = tred.tsvdm(X)"
   ]
  },
  {
   "cell_type": "code",
   "execution_count": 5,
   "metadata": {},
   "outputs": [
    {
     "name": "stdout",
     "output_type": "stream",
     "text": [
      "Tensor with dimensions (3, 3, 2)\n",
      "[[[ 0.17155477 -0.03254445 -0.56750142]\n",
      "  [ 0.77376295 -0.77505461  0.24995519]\n",
      "  [ 1.00613179  0.03661673  0.27647539]]\n",
      "\n",
      " [[ 0.49697207  1.1805333   0.08253392]\n",
      "  [ 0.21963571 -0.04814225 -0.82918402]\n",
      "  [-0.25364858  0.03023034  0.91905817]]]\n"
     ]
    }
   ],
   "source": [
    "disp(U)"
   ]
  },
  {
   "cell_type": "code",
   "execution_count": 6,
   "metadata": {},
   "outputs": [
    {
     "name": "stdout",
     "output_type": "stream",
     "text": [
      "Tensor with dimensions (3, 4, 2)\n",
      "[[[ 2.49071429  0.          0.          0.        ]\n",
      "  [ 0.          0.95133804  0.          0.        ]\n",
      "  [ 0.          0.          0.33545775  0.        ]]\n",
      "\n",
      " [[ 1.2959226   0.          0.          0.        ]\n",
      "  [ 0.         -0.06058465  0.          0.        ]\n",
      "  [ 0.          0.          0.10984777  0.        ]]]\n"
     ]
    }
   ],
   "source": [
    "disp(S)"
   ]
  },
  {
   "cell_type": "code",
   "execution_count": 7,
   "metadata": {},
   "outputs": [
    {
     "name": "stdout",
     "output_type": "stream",
     "text": [
      "Tensor with dimensions (4, 4, 2)\n",
      "[[[ 0.72770621 -0.26446627 -0.16542903 -0.41692012]\n",
      "  [-0.15139073 -0.0209886  -0.29168408  0.60752868]\n",
      "  [-0.01705587 -0.61095445  0.23509181  0.09922585]\n",
      "  [ 0.39762985 -0.16678187  0.60880143  0.52113841]]\n",
      "\n",
      " [[ 0.0244148   0.95052807 -0.33592066 -0.4270477 ]\n",
      "  [ 0.84344351  0.65517601  0.43308422  0.44074385]\n",
      "  [ 0.69522119 -0.36615433 -0.96110795  0.14212615]\n",
      "  [ 0.30626555 -0.2484096   0.48735324 -0.8825139 ]]]\n"
     ]
    }
   ],
   "source": [
    "disp(V)"
   ]
  },
  {
   "cell_type": "code",
   "execution_count": 8,
   "metadata": {},
   "outputs": [],
   "source": [
    "# note: the V tensor is not transposed!\n",
    "# in order to do a facewise transpose - use numpy\n",
    "Vt = V.transpose(1, 0, 2)"
   ]
  },
  {
   "cell_type": "code",
   "execution_count": 9,
   "metadata": {},
   "outputs": [
    {
     "name": "stdout",
     "output_type": "stream",
     "text": [
      "Tensor with dimensions (4, 4, 2)\n",
      "[[[ 0.72770621 -0.15139073 -0.01705587  0.39762985]\n",
      "  [-0.26446627 -0.0209886  -0.61095445 -0.16678187]\n",
      "  [-0.16542903 -0.29168408  0.23509181  0.60880143]\n",
      "  [-0.41692012  0.60752868  0.09922585  0.52113841]]\n",
      "\n",
      " [[ 0.0244148   0.84344351  0.69522119  0.30626555]\n",
      "  [ 0.95052807  0.65517601 -0.36615433 -0.2484096 ]\n",
      "  [-0.33592066  0.43308422 -0.96110795  0.48735324]\n",
      "  [-0.4270477   0.44074385  0.14212615 -0.8825139 ]]]\n"
     ]
    }
   ],
   "source": [
    "disp(Vt)"
   ]
  },
  {
   "cell_type": "markdown",
   "metadata": {},
   "source": [
    "Now, let's use the tensor decomposition using the `tpca` object. Revise some basics of object oriented programming and scikit-learn's interface if you are coming from R."
   ]
  },
  {
   "cell_type": "code",
   "execution_count": 10,
   "metadata": {},
   "outputs": [],
   "source": [
    "# first, create a transformer object\n",
    "tpca1 = tred.TPCA()"
   ]
  },
  {
   "cell_type": "markdown",
   "metadata": {},
   "source": [
    "There's two ways to do this:"
   ]
  },
  {
   "cell_type": "code",
   "execution_count": 11,
   "metadata": {},
   "outputs": [
    {
     "ename": "NotFittedError",
     "evalue": "This TPCA instance is not fitted yet. Call 'fit' with appropriate arguments before using this estimator.",
     "output_type": "error",
     "traceback": [
      "\u001b[1;31m---------------------------------------------------------------------------\u001b[0m",
      "\u001b[1;31mNotFittedError\u001b[0m                            Traceback (most recent call last)",
      "Cell \u001b[1;32mIn[11], line 3\u001b[0m\n\u001b[0;32m      1\u001b[0m \u001b[38;5;66;03m# 1. you explicitly fit your tpca object, and then transform your data\u001b[39;00m\n\u001b[0;32m      2\u001b[0m \u001b[38;5;66;03m# here's what happens if you call transform by itself!\u001b[39;00m\n\u001b[1;32m----> 3\u001b[0m X_transformed_1 \u001b[38;5;241m=\u001b[39m \u001b[43mtpca1\u001b[49m\u001b[38;5;241;43m.\u001b[39;49m\u001b[43mtransform\u001b[49m\u001b[43m(\u001b[49m\u001b[43mX\u001b[49m\u001b[43m)\u001b[49m\n",
      "File \u001b[1;32mc:\\Users\\brend\\OneDrive\\Documents\\GITHUB STUFF\\tred\\.venv\\lib\\site-packages\\sklearn\\utils\\_set_output.py:157\u001b[0m, in \u001b[0;36m_wrap_method_output.<locals>.wrapped\u001b[1;34m(self, X, *args, **kwargs)\u001b[0m\n\u001b[0;32m    155\u001b[0m \u001b[38;5;129m@wraps\u001b[39m(f)\n\u001b[0;32m    156\u001b[0m \u001b[38;5;28;01mdef\u001b[39;00m \u001b[38;5;21mwrapped\u001b[39m(\u001b[38;5;28mself\u001b[39m, X, \u001b[38;5;241m*\u001b[39margs, \u001b[38;5;241m*\u001b[39m\u001b[38;5;241m*\u001b[39mkwargs):\n\u001b[1;32m--> 157\u001b[0m     data_to_wrap \u001b[38;5;241m=\u001b[39m f(\u001b[38;5;28mself\u001b[39m, X, \u001b[38;5;241m*\u001b[39margs, \u001b[38;5;241m*\u001b[39m\u001b[38;5;241m*\u001b[39mkwargs)\n\u001b[0;32m    158\u001b[0m     \u001b[38;5;28;01mif\u001b[39;00m \u001b[38;5;28misinstance\u001b[39m(data_to_wrap, \u001b[38;5;28mtuple\u001b[39m):\n\u001b[0;32m    159\u001b[0m         \u001b[38;5;66;03m# only wrap the first output for cross decomposition\u001b[39;00m\n\u001b[0;32m    160\u001b[0m         return_tuple \u001b[38;5;241m=\u001b[39m (\n\u001b[0;32m    161\u001b[0m             _wrap_data_with_container(method, data_to_wrap[\u001b[38;5;241m0\u001b[39m], X, \u001b[38;5;28mself\u001b[39m),\n\u001b[0;32m    162\u001b[0m             \u001b[38;5;241m*\u001b[39mdata_to_wrap[\u001b[38;5;241m1\u001b[39m:],\n\u001b[0;32m    163\u001b[0m         )\n",
      "File \u001b[1;32m~\\OneDrive\\Documents\\GITHUB STUFF\\tred\\tred\\_tensor_pca.py:308\u001b[0m, in \u001b[0;36mTPCA.transform\u001b[1;34m(self, X)\u001b[0m\n\u001b[0;32m    288\u001b[0m \u001b[38;5;28;01mdef\u001b[39;00m \u001b[38;5;21mtransform\u001b[39m(\u001b[38;5;28mself\u001b[39m, X):\n\u001b[0;32m    289\u001b[0m \u001b[38;5;250m    \u001b[39m\u001b[38;5;124;03m\"\"\"Apply dimensionality reduction to X.\u001b[39;00m\n\u001b[0;32m    290\u001b[0m \n\u001b[0;32m    291\u001b[0m \u001b[38;5;124;03m    See the TCAM algorithm from Mor et al. (2022)\u001b[39;00m\n\u001b[1;32m   (...)\u001b[0m\n\u001b[0;32m    305\u001b[0m \u001b[38;5;124;03m        TCAM projections in 2D transformed space.\u001b[39;00m\n\u001b[0;32m    306\u001b[0m \u001b[38;5;124;03m    \"\"\"\u001b[39;00m\n\u001b[1;32m--> 308\u001b[0m     \u001b[43mcheck_is_fitted\u001b[49m\u001b[43m(\u001b[49m\u001b[38;5;28;43mself\u001b[39;49m\u001b[43m)\u001b[49m\n\u001b[0;32m    309\u001b[0m     \u001b[38;5;28;01massert\u001b[39;00m \u001b[38;5;28mlen\u001b[39m(X\u001b[38;5;241m.\u001b[39mshape) \u001b[38;5;241m==\u001b[39m \u001b[38;5;241m3\u001b[39m, \u001b[38;5;124m\"\u001b[39m\u001b[38;5;124mEnsure order-3 tensor input\u001b[39m\u001b[38;5;124m\"\u001b[39m\n\u001b[0;32m    310\u001b[0m     \u001b[38;5;28;01massert\u001b[39;00m (\n\u001b[0;32m    311\u001b[0m         X\u001b[38;5;241m.\u001b[39mshape[\u001b[38;5;241m1\u001b[39m] \u001b[38;5;241m==\u001b[39m \u001b[38;5;28mself\u001b[39m\u001b[38;5;241m.\u001b[39mp_ \u001b[38;5;129;01mand\u001b[39;00m X\u001b[38;5;241m.\u001b[39mshape[\u001b[38;5;241m2\u001b[39m] \u001b[38;5;241m==\u001b[39m \u001b[38;5;28mself\u001b[39m\u001b[38;5;241m.\u001b[39mt_\n\u001b[0;32m    312\u001b[0m     ), \u001b[38;5;124m\"\u001b[39m\u001b[38;5;124mEnsure the number of features, and time points, matches the model fit data\u001b[39m\u001b[38;5;124m\"\u001b[39m\n",
      "File \u001b[1;32mc:\\Users\\brend\\OneDrive\\Documents\\GITHUB STUFF\\tred\\.venv\\lib\\site-packages\\sklearn\\utils\\validation.py:1461\u001b[0m, in \u001b[0;36mcheck_is_fitted\u001b[1;34m(estimator, attributes, msg, all_or_any)\u001b[0m\n\u001b[0;32m   1458\u001b[0m     \u001b[38;5;28;01mraise\u001b[39;00m \u001b[38;5;167;01mTypeError\u001b[39;00m(\u001b[38;5;124m\"\u001b[39m\u001b[38;5;132;01m%s\u001b[39;00m\u001b[38;5;124m is not an estimator instance.\u001b[39m\u001b[38;5;124m\"\u001b[39m \u001b[38;5;241m%\u001b[39m (estimator))\n\u001b[0;32m   1460\u001b[0m \u001b[38;5;28;01mif\u001b[39;00m \u001b[38;5;129;01mnot\u001b[39;00m _is_fitted(estimator, attributes, all_or_any):\n\u001b[1;32m-> 1461\u001b[0m     \u001b[38;5;28;01mraise\u001b[39;00m NotFittedError(msg \u001b[38;5;241m%\u001b[39m {\u001b[38;5;124m\"\u001b[39m\u001b[38;5;124mname\u001b[39m\u001b[38;5;124m\"\u001b[39m: \u001b[38;5;28mtype\u001b[39m(estimator)\u001b[38;5;241m.\u001b[39m\u001b[38;5;18m__name__\u001b[39m})\n",
      "\u001b[1;31mNotFittedError\u001b[0m: This TPCA instance is not fitted yet. Call 'fit' with appropriate arguments before using this estimator."
     ]
    }
   ],
   "source": [
    "# 1. you explicitly fit your tpca object, and then transform your data\n",
    "# here's what happens if you call transform by itself!\n",
    "X_transformed_1 = tpca1.transform(X)"
   ]
  },
  {
   "cell_type": "code",
   "execution_count": null,
   "metadata": {},
   "outputs": [
    {
     "name": "stdout",
     "output_type": "stream",
     "text": [
      "Tensor with dimensions (3, 4, 2)\n",
      "[[[0.97669977 0.92324623 0.31909706 0.24176629]\n",
      "  [0.96407925 0.44100612 0.8636213  0.67488131]\n",
      "  [0.7357577  0.17206618 0.06013866 0.67123802]]\n",
      "\n",
      " [[0.38019574 0.26169242 0.11809123 0.31853393]\n",
      "  [0.2636498  0.60987081 0.86375767 0.65987435]\n",
      "  [0.22275366 0.87041497 0.68368891 0.61101798]]]\n"
     ]
    }
   ],
   "source": [
    "disp(X)"
   ]
  },
  {
   "cell_type": "code",
   "execution_count": null,
   "metadata": {},
   "outputs": [],
   "source": [
    "# so, we need to fit the tpca object first - then call transform!\n",
    "tpca1.fit(X)\n",
    "X_transformed_1 = tpca1.transform(X)"
   ]
  },
  {
   "cell_type": "code",
   "execution_count": null,
   "metadata": {},
   "outputs": [],
   "source": [
    "# 2. or, we can simply just call fit_transform!\n",
    "# note: this produces the same result to machine precision, but not identical\n",
    "# see the tred library implementation for more details\n",
    "tpca2 = tred.TPCA()\n",
    "X_transformed_2 = tpca2.fit_transform(X)"
   ]
  },
  {
   "cell_type": "code",
   "execution_count": null,
   "metadata": {},
   "outputs": [
    {
     "data": {
      "text/plain": [
       "array([[ 5.68460112e-01,  5.11808598e-01, -1.54348130e-01,\n",
       "        -6.89881787e-02,  1.42247325e-16, -2.77555756e-17],\n",
       "       [-6.66509430e-03, -5.59723785e-01, -1.17834904e-01,\n",
       "         1.40461250e-01, -1.70870262e-16, -2.77555756e-17],\n",
       "       [-5.61795018e-01,  4.79151878e-02,  2.72183034e-01,\n",
       "        -7.14730711e-02,  1.73472348e-17,  1.80411242e-16]])"
      ]
     },
     "execution_count": 54,
     "metadata": {},
     "output_type": "execute_result"
    }
   ],
   "source": [
    "# the size of this is n rows by min(n, p) columns\n",
    "X_transformed_1"
   ]
  },
  {
   "cell_type": "code",
   "execution_count": null,
   "metadata": {},
   "outputs": [
    {
     "data": {
      "text/plain": [
       "array([[ 5.68460112e-01,  5.11808598e-01, -1.54348130e-01,\n",
       "        -6.89881787e-02, -6.00850325e-17,  5.86791256e-17],\n",
       "       [-6.66509430e-03, -5.59723785e-01, -1.17834904e-01,\n",
       "         1.40461250e-01, -6.00850325e-17,  5.86791256e-17],\n",
       "       [-5.61795018e-01,  4.79151878e-02,  2.72183034e-01,\n",
       "        -7.14730711e-02, -6.00850325e-17,  5.86791256e-17]])"
      ]
     },
     "execution_count": 55,
     "metadata": {},
     "output_type": "execute_result"
    }
   ],
   "source": [
    "# NOTE: this is the same as the array above - to machine precision\n",
    "# some numbers LOOK different, but you'll see that they are tiny and\n",
    "# are actually meant to be 0's\n",
    "X_transformed_2"
   ]
  },
  {
   "cell_type": "markdown",
   "metadata": {},
   "source": [
    "We can use the fitted objects to transform out of bag data"
   ]
  },
  {
   "cell_type": "code",
   "execution_count": null,
   "metadata": {},
   "outputs": [],
   "source": [
    "new_obs = RNG.random(size=(1, p, t))"
   ]
  },
  {
   "cell_type": "code",
   "execution_count": null,
   "metadata": {},
   "outputs": [
    {
     "name": "stdout",
     "output_type": "stream",
     "text": [
      "Tensor with dimensions (1, 4, 2)\n",
      "[[[0.06013731 0.43895163 0.00313229 0.85849044]]\n",
      "\n",
      " [[0.97776927 0.53259502 0.25126711 0.42529835]]]\n"
     ]
    }
   ],
   "source": [
    "disp(new_obs)"
   ]
  },
  {
   "cell_type": "code",
   "execution_count": null,
   "metadata": {},
   "outputs": [
    {
     "data": {
      "text/plain": [
       "array([[-0.13546024,  0.34661962,  0.39718925, -0.55304217,  0.95086191,\n",
       "         0.07885213]])"
      ]
     },
     "execution_count": 35,
     "metadata": {},
     "output_type": "execute_result"
    }
   ],
   "source": [
    "# make sure you do not call anything with 'fit'!\n",
    "# that will change the tpca loadings\n",
    "tpca1.transform(new_obs)"
   ]
  }
 ],
 "metadata": {
  "kernelspec": {
   "display_name": ".venv",
   "language": "python",
   "name": "python3"
  },
  "language_info": {
   "codemirror_mode": {
    "name": "ipython",
    "version": 3
   },
   "file_extension": ".py",
   "mimetype": "text/x-python",
   "name": "python",
   "nbconvert_exporter": "python",
   "pygments_lexer": "ipython3",
   "version": "3.10.7"
  }
 },
 "nbformat": 4,
 "nbformat_minor": 2
}
